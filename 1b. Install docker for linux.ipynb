{
 "cells": [
  {
   "cell_type": "markdown",
   "metadata": {},
   "source": [
    "When I use the linux workstation provided by CUHK, I found they locked the linux version and prevent it from updating. \n",
    "\n",
    "In that way, I found problem when loading LLM.\n",
    "\n",
    "To run the model, I need to use docker and pull latest ubuntu image. "
   ]
  },
  {
   "cell_type": "markdown",
   "metadata": {},
   "source": [
    "## Part 1: Download linux version Docker (No GUI)"
   ]
  },
  {
   "cell_type": "code",
   "execution_count": 4,
   "metadata": {},
   "outputs": [
    {
     "name": "stdout",
     "output_type": "stream",
     "text": [
      "Get:1 file:/var/cuda-repo-ubuntu2004-12-3-local  InRelease [1,572 B]\n",
      "Get:2 file:/var/cudnn-local-repo-ubuntu2004-8.8.1.3  InRelease [1,572 B]\n",
      "Get:1 file:/var/cuda-repo-ubuntu2004-12-3-local  InRelease [1,572 B]\n",
      "Get:2 file:/var/cudnn-local-repo-ubuntu2004-8.8.1.3  InRelease [1,572 B]\n",
      "Hit:3 http://hk.archive.ubuntu.com/ubuntu focal InRelease\n",
      "Hit:4 http://hk.archive.ubuntu.com/ubuntu focal-updates InRelease\n",
      "Hit:5 http://hk.archive.ubuntu.com/ubuntu focal-backports InRelease\n",
      "Hit:6 https://packages.microsoft.com/repos/code stable InRelease\n",
      "Hit:7 https://developer.download.nvidia.com/compute/cuda/repos/ubuntu1804/x86_64  InRelease\n",
      "Hit:8 http://security.ubuntu.com/ubuntu focal-security InRelease\n",
      "Hit:9 http://oem.archive.canonical.com focal InRelease\n",
      "Hit:10 http://hp.archive.canonical.com focal InRelease\n",
      "Hit:11 https://download.docker.com/linux/ubuntu focal InRelease\n",
      "Hit:12 https://dl.google.com/linux/chrome/deb stable InRelease\n",
      "Reading package lists...\n",
      "Reading package lists...\n",
      "Building dependency tree...\n",
      "Reading state information...\n",
      "ca-certificates is already the newest version (20230311ubuntu0.20.04.1).\n",
      "curl is already the newest version (7.68.0-1ubuntu2.21).\n",
      "0 upgraded, 0 newly installed, 0 to remove and 0 not upgraded.\n",
      "Get:1 file:/var/cuda-repo-ubuntu2004-12-3-local  InRelease [1,572 B]\n",
      "Get:2 file:/var/cudnn-local-repo-ubuntu2004-8.8.1.3  InRelease [1,572 B]\n",
      "Get:1 file:/var/cuda-repo-ubuntu2004-12-3-local  InRelease [1,572 B]\n",
      "Get:2 file:/var/cudnn-local-repo-ubuntu2004-8.8.1.3  InRelease [1,572 B]\n",
      "Hit:3 http://hk.archive.ubuntu.com/ubuntu focal InRelease\n",
      "Hit:4 http://hk.archive.ubuntu.com/ubuntu focal-updates InRelease\n",
      "Hit:5 https://download.docker.com/linux/ubuntu focal InRelease\n",
      "Hit:6 http://hk.archive.ubuntu.com/ubuntu focal-backports InRelease\n",
      "Hit:7 https://packages.microsoft.com/repos/code stable InRelease\n",
      "Hit:8 https://dl.google.com/linux/chrome/deb stable InRelease\n",
      "Hit:9 https://developer.download.nvidia.com/compute/cuda/repos/ubuntu1804/x86_64  InRelease\n",
      "Hit:10 http://hp.archive.canonical.com focal InRelease\n",
      "Hit:11 http://oem.archive.canonical.com focal InRelease\n",
      "Hit:12 http://security.ubuntu.com/ubuntu focal-security InRelease\n",
      "Reading package lists...\n"
     ]
    }
   ],
   "source": [
    "%%bash\n",
    "sudo apt-get update &&\n",
    "sudo apt-get install -y ca-certificates curl &&\n",
    "sudo install -m 0755 -d /etc/apt/keyrings &&\n",
    "sudo curl -fsSL https://download.docker.com/linux/ubuntu/gpg -o /etc/apt/keyrings/docker.asc &&\n",
    "sudo chmod a+r /etc/apt/keyrings/docker.asc &&\n",
    "echo \\\n",
    "  \"deb [arch=$(dpkg --print-architecture) signed-by=/etc/apt/keyrings/docker.asc] https://download.docker.com/linux/ubuntu \\\n",
    "  $(. /etc/os-release && echo \"$VERSION_CODENAME\") stable\" | \\\n",
    "  sudo tee /etc/apt/sources.list.d/docker.list > /dev/null &&\n",
    "sudo apt-get update"
   ]
  },
  {
   "cell_type": "markdown",
   "metadata": {},
   "source": [
    "## Part 2: Install that file "
   ]
  },
  {
   "cell_type": "markdown",
   "metadata": {},
   "source": [
    "Install the docker package"
   ]
  },
  {
   "cell_type": "code",
   "execution_count": 5,
   "metadata": {},
   "outputs": [
    {
     "name": "stdout",
     "output_type": "stream",
     "text": [
      "Reading package lists...\n",
      "Building dependency tree...\n",
      "Reading state information...\n",
      "The following additional packages will be installed:\n",
      "  docker-ce-rootless-extras pigz slirp4netns\n",
      "Suggested packages:\n",
      "  aufs-tools cgroupfs-mount | cgroup-lite\n",
      "The following NEW packages will be installed:\n",
      "  containerd.io docker-buildx-plugin docker-ce docker-ce-cli\n",
      "  docker-ce-rootless-extras docker-compose-plugin pigz slirp4netns\n",
      "0 upgraded, 8 newly installed, 0 to remove and 0 not upgraded.\n",
      "Need to get 117 MB of archives.\n",
      "After this operation, 420 MB of additional disk space will be used.\n",
      "Get:1 http://hk.archive.ubuntu.com/ubuntu focal/universe amd64 pigz amd64 2.4-1 [57.4 kB]\n",
      "Get:2 http://hk.archive.ubuntu.com/ubuntu focal/universe amd64 slirp4netns amd64 0.4.3-1 [74.3 kB]\n",
      "Get:3 https://download.docker.com/linux/ubuntu focal/stable amd64 containerd.io amd64 1.6.28-1 [29.6 MB]\n",
      "Get:4 https://download.docker.com/linux/ubuntu focal/stable amd64 docker-buildx-plugin amd64 0.12.1-1~ubuntu.20.04~focal [28.2 MB]\n",
      "Get:5 https://download.docker.com/linux/ubuntu focal/stable amd64 docker-ce-cli amd64 5:25.0.3-1~ubuntu.20.04~focal [13.7 MB]\n",
      "Get:6 https://download.docker.com/linux/ubuntu focal/stable amd64 docker-ce amd64 5:25.0.3-1~ubuntu.20.04~focal [24.3 MB]\n",
      "Get:7 https://download.docker.com/linux/ubuntu focal/stable amd64 docker-ce-rootless-extras amd64 5:25.0.3-1~ubuntu.20.04~focal [9,324 kB]\n",
      "Get:8 https://download.docker.com/linux/ubuntu focal/stable amd64 docker-compose-plugin amd64 2.24.6-1~ubuntu.20.04~focal [12.1 MB]\n"
     ]
    },
    {
     "name": "stderr",
     "output_type": "stream",
     "text": [
      "dpkg-preconfigure: unable to re-open stdin: No such file or directory\n"
     ]
    },
    {
     "name": "stdout",
     "output_type": "stream",
     "text": [
      "Fetched 117 MB in 3s (39.6 MB/s)\n",
      "Selecting previously unselected package pigz.\n",
      "(Reading database ... 230808 files and directories currently installed.)\n",
      "Preparing to unpack .../0-pigz_2.4-1_amd64.deb ...\n",
      "Unpacking pigz (2.4-1) ...\n",
      "Selecting previously unselected package containerd.io.\n",
      "Preparing to unpack .../1-containerd.io_1.6.28-1_amd64.deb ...\n",
      "Unpacking containerd.io (1.6.28-1) ...\n",
      "Selecting previously unselected package docker-buildx-plugin.\n",
      "Preparing to unpack .../2-docker-buildx-plugin_0.12.1-1~ubuntu.20.04~focal_amd64.deb ...\n",
      "Unpacking docker-buildx-plugin (0.12.1-1~ubuntu.20.04~focal) ...\n",
      "Selecting previously unselected package docker-ce-cli.\n",
      "Preparing to unpack .../3-docker-ce-cli_5%3a25.0.3-1~ubuntu.20.04~focal_amd64.deb ...\n",
      "Unpacking docker-ce-cli (5:25.0.3-1~ubuntu.20.04~focal) ...\n",
      "Selecting previously unselected package docker-ce.\n",
      "Preparing to unpack .../4-docker-ce_5%3a25.0.3-1~ubuntu.20.04~focal_amd64.deb ...\n",
      "Unpacking docker-ce (5:25.0.3-1~ubuntu.20.04~focal) ...\n",
      "Selecting previously unselected package docker-ce-rootless-extras.\n",
      "Preparing to unpack .../5-docker-ce-rootless-extras_5%3a25.0.3-1~ubuntu.20.04~focal_amd64.deb ...\n",
      "Unpacking docker-ce-rootless-extras (5:25.0.3-1~ubuntu.20.04~focal) ...\n",
      "Selecting previously unselected package docker-compose-plugin.\n",
      "Preparing to unpack .../6-docker-compose-plugin_2.24.6-1~ubuntu.20.04~focal_amd64.deb ...\n",
      "Unpacking docker-compose-plugin (2.24.6-1~ubuntu.20.04~focal) ...\n",
      "Selecting previously unselected package slirp4netns.\n",
      "Preparing to unpack .../7-slirp4netns_0.4.3-1_amd64.deb ...\n",
      "Unpacking slirp4netns (0.4.3-1) ...\n",
      "Setting up slirp4netns (0.4.3-1) ...\n",
      "Setting up docker-buildx-plugin (0.12.1-1~ubuntu.20.04~focal) ...\n",
      "Setting up containerd.io (1.6.28-1) ...\n",
      "Created symlink /etc/systemd/system/multi-user.target.wants/containerd.service → /lib/systemd/system/containerd.service.\n",
      "Setting up docker-compose-plugin (2.24.6-1~ubuntu.20.04~focal) ...\n",
      "Setting up docker-ce-cli (5:25.0.3-1~ubuntu.20.04~focal) ...\n",
      "Setting up pigz (2.4-1) ...\n",
      "Setting up docker-ce-rootless-extras (5:25.0.3-1~ubuntu.20.04~focal) ...\n",
      "Setting up docker-ce (5:25.0.3-1~ubuntu.20.04~focal) ...\n",
      "Created symlink /etc/systemd/system/multi-user.target.wants/docker.service → /lib/systemd/system/docker.service.\n",
      "Created symlink /etc/systemd/system/sockets.target.wants/docker.socket → /lib/systemd/system/docker.socket.\n",
      "Processing triggers for man-db (2.9.1-1) ...\n",
      "Processing triggers for systemd (245.4-4ubuntu3.23) ...\n"
     ]
    }
   ],
   "source": [
    "%%bash\n",
    "sudo apt-get install docker-ce docker-ce-cli containerd.io docker-buildx-plugin docker-compose-plugin -y"
   ]
  },
  {
   "cell_type": "markdown",
   "metadata": {},
   "source": [
    "## Part 2b: Update Docker (optional)"
   ]
  },
  {
   "cell_type": "code",
   "execution_count": 1,
   "metadata": {
    "vscode": {
     "languageId": "shellscript"
    }
   },
   "outputs": [
    {
     "name": "stdout",
     "output_type": "stream",
     "text": [
      "Docker version 25.0.3, build 4debf41\n"
     ]
    }
   ],
   "source": [
    "!docker --version"
   ]
  },
  {
   "cell_type": "code",
   "execution_count": 2,
   "metadata": {
    "vscode": {
     "languageId": "shellscript"
    }
   },
   "outputs": [
    {
     "name": "stdout",
     "output_type": "stream",
     "text": [
      "Get:1 file:/var/cuda-repo-ubuntu2004-12-3-local  InRelease [1,572 B]\n",
      "Get:2 file:/var/cudnn-local-repo-ubuntu2004-8.8.1.3  InRelease [1,572 B]\n",
      "Get:1 file:/var/cuda-repo-ubuntu2004-12-3-local  InRelease [1,572 B]\n",
      "Get:2 file:/var/cudnn-local-repo-ubuntu2004-8.8.1.3  InRelease [1,572 B]\n",
      "Hit:3 http://hk.archive.ubuntu.com/ubuntu focal InRelease\n",
      "Get:4 http://hk.archive.ubuntu.com/ubuntu focal-updates InRelease [114 kB]     \n",
      "Hit:5 http://hk.archive.ubuntu.com/ubuntu focal-backports InRelease            \n",
      "Hit:6 https://download.docker.com/linux/ubuntu focal InRelease                 \n",
      "Hit:7 https://packages.microsoft.com/repos/code stable InRelease               \n",
      "Hit:8 https://developer.download.nvidia.com/compute/cuda/repos/ubuntu1804/x86_64  InRelease\n",
      "Hit:9 https://dl.google.com/linux/chrome/deb stable InRelease                  \n",
      "Get:10 http://security.ubuntu.com/ubuntu focal-security InRelease [114 kB]     \n",
      "Hit:11 http://hp.archive.canonical.com focal InRelease                         \n",
      "Hit:12 http://oem.archive.canonical.com focal InRelease                        \n",
      "Get:13 http://security.ubuntu.com/ubuntu focal-security/universe i386 Packages [651 kB]\n",
      "Get:14 http://security.ubuntu.com/ubuntu focal-security/universe amd64 Packages [946 kB]\n",
      "Get:15 http://security.ubuntu.com/ubuntu focal-security/universe Translation-en [198 kB]\n",
      "Fetched 2,023 kB in 3s (611 kB/s)                                \n",
      "Reading package lists... Done\n",
      "Reading package lists... Done\n",
      "Building dependency tree       \n",
      "Reading state information... Done\n",
      "containerd.io is already the newest version (1.6.28-1).\n",
      "docker-ce-cli is already the newest version (5:25.0.3-1~ubuntu.20.04~focal).\n",
      "docker-ce is already the newest version (5:25.0.3-1~ubuntu.20.04~focal).\n",
      "0 upgraded, 0 newly installed, 0 to remove and 0 not upgraded.\n"
     ]
    }
   ],
   "source": [
    "!sudo apt-get update\n",
    "!sudo apt-get install --only-upgrade docker-ce docker-ce-cli containerd.io"
   ]
  },
  {
   "cell_type": "code",
   "execution_count": 3,
   "metadata": {
    "vscode": {
     "languageId": "shellscript"
    }
   },
   "outputs": [
    {
     "name": "stdout",
     "output_type": "stream",
     "text": [
      "Docker version 25.0.3, build 4debf41\n"
     ]
    }
   ],
   "source": [
    "!docker --version"
   ]
  },
  {
   "cell_type": "markdown",
   "metadata": {},
   "source": [
    "## Part 3: Test whether docker is function in the PC"
   ]
  },
  {
   "cell_type": "code",
   "execution_count": 6,
   "metadata": {
    "vscode": {
     "languageId": "shellscript"
    }
   },
   "outputs": [
    {
     "name": "stdout",
     "output_type": "stream",
     "text": [
      "Unable to find image 'hello-world:latest' locally\n",
      "latest: Pulling from library/hello-world\n",
      "\n",
      "\u001b[1BDigest: sha256:d000bc569937abbe195e20322a0bde6b2922d805332fd6d8a68b19f524b7d21d\n",
      "Status: Downloaded newer image for hello-world:latest\n",
      "\n",
      "Hello from Docker!\n",
      "This message shows that your installation appears to be working correctly.\n",
      "\n",
      "To generate this message, Docker took the following steps:\n",
      " 1. The Docker client contacted the Docker daemon.\n",
      " 2. The Docker daemon pulled the \"hello-world\" image from the Docker Hub.\n",
      "    (amd64)\n",
      " 3. The Docker daemon created a new container from that image which runs the\n",
      "    executable that produces the output you are currently reading.\n",
      " 4. The Docker daemon streamed that output to the Docker client, which sent it\n",
      "    to your terminal.\n",
      "\n",
      "To try something more ambitious, you can run an Ubuntu container with:\n",
      " $ docker run -it ubuntu bash\n",
      "\n",
      "Share images, automate workflows, and more with a free Docker ID:\n",
      " https://hub.docker.com/\n",
      "\n",
      "For more examples and ideas, visit:\n",
      " https://docs.docker.com/get-started/\n",
      "\n"
     ]
    }
   ],
   "source": [
    "!sudo docker run hello-world"
   ]
  }
 ],
 "metadata": {
  "kernelspec": {
   "display_name": "Python 3",
   "language": "python",
   "name": "python3"
  },
  "language_info": {
   "codemirror_mode": {
    "name": "ipython",
    "version": 3
   },
   "file_extension": ".py",
   "mimetype": "text/x-python",
   "name": "python",
   "nbconvert_exporter": "python",
   "pygments_lexer": "ipython3",
   "version": "3.11.7"
  }
 },
 "nbformat": 4,
 "nbformat_minor": 2
}
